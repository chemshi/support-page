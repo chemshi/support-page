{
 "cells": [
  {
   "cell_type": "markdown",
   "metadata": {},
   "source": [
    "# ヒスタミン受容体 阻害剤のスクリーニング\n"
   ]
  },
  {
   "cell_type": "code",
   "execution_count": 1,
   "metadata": {},
   "outputs": [
    {
     "name": "stderr",
     "output_type": "stream",
     "text": [
      "RDKit WARNING: [21:53:04] Enabling RDKit 2019.09.3 jupyter extensions\n"
     ]
    }
   ],
   "source": [
    "\n",
    "from rdkit import Chem\n",
    "from rdkit.Chem import Draw\n",
    "from warnings import filterwarnings\n",
    "filterwarnings('ignore')\n",
    "import pandas as pd \n",
    "import numpy as np \n",
    "from joblib import dump as jl_dump \n",
    "from scipy.spatial.distance import cdist\n",
    "import gc\n",
    "\n",
    "# 可視化\n",
    "import matplotlib as mpl\n",
    "import matplotlib.pyplot as plt\n",
    "\n",
    "mpl.rcParams['figure.figsize'] = [12, 8]\n",
    "mpl.rcParams['font.size'] = 20\n",
    "mpl.rcParams['font.family'] = 'MS Gothic'\n",
    "\n",
    "# 機械学習、記述子計算\n",
    "from sklearn.model_selection import train_test_split, GridSearchCV\n",
    "from sklearn.svm import SVC\n",
    "from sklearn.pipeline import make_pipeline, Pipeline\n",
    "from sklearn import metrics \n",
    "import sys \n",
    "sys.path.append('../')\n",
    "from cheminfo.descriptors import RDKitDescriptor, HashedMorgan, RDKitFingerprint"
   ]
  },
  {
   "cell_type": "code",
   "execution_count": 2,
   "metadata": {},
   "outputs": [
    {
     "name": "stdout",
     "output_type": "stream",
     "text": [
      "['CHEMBL3943']\n"
     ]
    },
    {
     "data": {
      "text/html": [
       "<div>\n",
       "<style scoped>\n",
       "    .dataframe tbody tr th:only-of-type {\n",
       "        vertical-align: middle;\n",
       "    }\n",
       "\n",
       "    .dataframe tbody tr th {\n",
       "        vertical-align: top;\n",
       "    }\n",
       "\n",
       "    .dataframe thead th {\n",
       "        text-align: right;\n",
       "    }\n",
       "</style>\n",
       "<table border=\"1\" class=\"dataframe\">\n",
       "  <thead>\n",
       "    <tr style=\"text-align: right;\">\n",
       "      <th></th>\n",
       "      <th>Molecule Name</th>\n",
       "      <th>Molecule Max Phase</th>\n",
       "      <th>Molecular Weight</th>\n",
       "      <th>#RO5 Violations</th>\n",
       "      <th>AlogP</th>\n",
       "      <th>Compound Key</th>\n",
       "      <th>Smiles</th>\n",
       "      <th>Standard Type</th>\n",
       "      <th>Standard Relation</th>\n",
       "      <th>Standard Value</th>\n",
       "      <th>...</th>\n",
       "      <th>Target ChEMBL ID</th>\n",
       "      <th>Target Name</th>\n",
       "      <th>Target Organism</th>\n",
       "      <th>Target Type</th>\n",
       "      <th>Document ChEMBL ID</th>\n",
       "      <th>Source ID</th>\n",
       "      <th>Source Description</th>\n",
       "      <th>Document Journal</th>\n",
       "      <th>Document Year</th>\n",
       "      <th>Cell ChEMBL ID</th>\n",
       "    </tr>\n",
       "    <tr>\n",
       "      <th>Molecule ChEMBL ID</th>\n",
       "      <th></th>\n",
       "      <th></th>\n",
       "      <th></th>\n",
       "      <th></th>\n",
       "      <th></th>\n",
       "      <th></th>\n",
       "      <th></th>\n",
       "      <th></th>\n",
       "      <th></th>\n",
       "      <th></th>\n",
       "      <th></th>\n",
       "      <th></th>\n",
       "      <th></th>\n",
       "      <th></th>\n",
       "      <th></th>\n",
       "      <th></th>\n",
       "      <th></th>\n",
       "      <th></th>\n",
       "      <th></th>\n",
       "      <th></th>\n",
       "      <th></th>\n",
       "    </tr>\n",
       "  </thead>\n",
       "  <tbody>\n",
       "    <tr>\n",
       "      <th>CHEMBL511</th>\n",
       "      <td>PYRILAMINE</td>\n",
       "      <td>4</td>\n",
       "      <td>285.39</td>\n",
       "      <td>0.0</td>\n",
       "      <td>2.66</td>\n",
       "      <td>Mepyramine</td>\n",
       "      <td>COc1ccc(CN(CCN(C)C)c2ccccn2)cc1</td>\n",
       "      <td>IC50</td>\n",
       "      <td>'='</td>\n",
       "      <td>3.400000e+01</td>\n",
       "      <td>...</td>\n",
       "      <td>CHEMBL3943</td>\n",
       "      <td>Histamine H1 receptor</td>\n",
       "      <td>Cavia porcellus</td>\n",
       "      <td>SINGLE PROTEIN</td>\n",
       "      <td>CHEMBL1132913</td>\n",
       "      <td>1</td>\n",
       "      <td>Scientific Literature</td>\n",
       "      <td>Bioorg. Med. Chem. Lett.</td>\n",
       "      <td>2000</td>\n",
       "      <td>NaN</td>\n",
       "    </tr>\n",
       "    <tr>\n",
       "      <th>CHEMBL14587</th>\n",
       "      <td>NaN</td>\n",
       "      <td>0</td>\n",
       "      <td>423.99</td>\n",
       "      <td>1.0</td>\n",
       "      <td>5.80</td>\n",
       "      <td>37</td>\n",
       "      <td>Clc1ccc2c(NCCc3ccc(OCCCN4CCCCC4)cc3)ccnc2c1</td>\n",
       "      <td>Kd</td>\n",
       "      <td>'='</td>\n",
       "      <td>7.943300e+02</td>\n",
       "      <td>...</td>\n",
       "      <td>CHEMBL3943</td>\n",
       "      <td>Histamine H1 receptor</td>\n",
       "      <td>Cavia porcellus</td>\n",
       "      <td>SINGLE PROTEIN</td>\n",
       "      <td>CHEMBL1135735</td>\n",
       "      <td>1</td>\n",
       "      <td>Scientific Literature</td>\n",
       "      <td>J. Med. Chem.</td>\n",
       "      <td>2002</td>\n",
       "      <td>NaN</td>\n",
       "    </tr>\n",
       "    <tr>\n",
       "      <th>CHEMBL90</th>\n",
       "      <td>HISTAMINE</td>\n",
       "      <td>4</td>\n",
       "      <td>111.15</td>\n",
       "      <td>0.0</td>\n",
       "      <td>-0.09</td>\n",
       "      <td>1b</td>\n",
       "      <td>NCCc1c[nH]cn1</td>\n",
       "      <td>Ki</td>\n",
       "      <td>'='</td>\n",
       "      <td>7.943282e+13</td>\n",
       "      <td>...</td>\n",
       "      <td>CHEMBL3943</td>\n",
       "      <td>Histamine H1 receptor</td>\n",
       "      <td>Cavia porcellus</td>\n",
       "      <td>SINGLE PROTEIN</td>\n",
       "      <td>CHEMBL1128733</td>\n",
       "      <td>1</td>\n",
       "      <td>Scientific Literature</td>\n",
       "      <td>J. Med. Chem.</td>\n",
       "      <td>1995</td>\n",
       "      <td>CHEMBL3308072</td>\n",
       "    </tr>\n",
       "  </tbody>\n",
       "</table>\n",
       "<p>3 rows × 40 columns</p>\n",
       "</div>"
      ],
      "text/plain": [
       "                   Molecule Name  Molecule Max Phase  Molecular Weight  \\\n",
       "Molecule ChEMBL ID                                                       \n",
       "CHEMBL511             PYRILAMINE                   4            285.39   \n",
       "CHEMBL14587                  NaN                   0            423.99   \n",
       "CHEMBL90               HISTAMINE                   4            111.15   \n",
       "\n",
       "                    #RO5 Violations  AlogP Compound Key  \\\n",
       "Molecule ChEMBL ID                                        \n",
       "CHEMBL511                       0.0   2.66   Mepyramine   \n",
       "CHEMBL14587                     1.0   5.80           37   \n",
       "CHEMBL90                        0.0  -0.09           1b   \n",
       "\n",
       "                                                         Smiles Standard Type  \\\n",
       "Molecule ChEMBL ID                                                              \n",
       "CHEMBL511                       COc1ccc(CN(CCN(C)C)c2ccccn2)cc1          IC50   \n",
       "CHEMBL14587         Clc1ccc2c(NCCc3ccc(OCCCN4CCCCC4)cc3)ccnc2c1            Kd   \n",
       "CHEMBL90                                          NCCc1c[nH]cn1            Ki   \n",
       "\n",
       "                   Standard Relation  Standard Value  ... Target ChEMBL ID  \\\n",
       "Molecule ChEMBL ID                                    ...                    \n",
       "CHEMBL511                        '='    3.400000e+01  ...       CHEMBL3943   \n",
       "CHEMBL14587                      '='    7.943300e+02  ...       CHEMBL3943   \n",
       "CHEMBL90                         '='    7.943282e+13  ...       CHEMBL3943   \n",
       "\n",
       "                              Target Name  Target Organism     Target Type  \\\n",
       "Molecule ChEMBL ID                                                           \n",
       "CHEMBL511           Histamine H1 receptor  Cavia porcellus  SINGLE PROTEIN   \n",
       "CHEMBL14587         Histamine H1 receptor  Cavia porcellus  SINGLE PROTEIN   \n",
       "CHEMBL90            Histamine H1 receptor  Cavia porcellus  SINGLE PROTEIN   \n",
       "\n",
       "                   Document ChEMBL ID  Source ID     Source Description  \\\n",
       "Molecule ChEMBL ID                                                        \n",
       "CHEMBL511               CHEMBL1132913          1  Scientific Literature   \n",
       "CHEMBL14587             CHEMBL1135735          1  Scientific Literature   \n",
       "CHEMBL90                CHEMBL1128733          1  Scientific Literature   \n",
       "\n",
       "                            Document Journal  Document Year  Cell ChEMBL ID  \n",
       "Molecule ChEMBL ID                                                           \n",
       "CHEMBL511           Bioorg. Med. Chem. Lett.           2000             NaN  \n",
       "CHEMBL14587                    J. Med. Chem.           2002             NaN  \n",
       "CHEMBL90                       J. Med. Chem.           1995   CHEMBL3308072  \n",
       "\n",
       "[3 rows x 40 columns]"
      ]
     },
     "execution_count": 2,
     "metadata": {},
     "output_type": "execute_result"
    }
   ],
   "source": [
    "df = pd.read_csv('../data/chembl/CHEMBL26-chembl_26_activity-H1-receptor.csv', delimiter=';',\n",
    "                index_col=0)\n",
    "print(df['Target ChEMBL ID'].unique())\n",
    "df.head(3)"
   ]
  },
  {
   "cell_type": "markdown",
   "metadata": {},
   "source": [
    "### IC50の取り出しとpIC50への変換"
   ]
  },
  {
   "cell_type": "code",
   "execution_count": 3,
   "metadata": {},
   "outputs": [
    {
     "name": "stdout",
     "output_type": "stream",
     "text": [
      "(262, 40)\n"
     ]
    },
    {
     "data": {
      "text/html": [
       "<div>\n",
       "<style scoped>\n",
       "    .dataframe tbody tr th:only-of-type {\n",
       "        vertical-align: middle;\n",
       "    }\n",
       "\n",
       "    .dataframe tbody tr th {\n",
       "        vertical-align: top;\n",
       "    }\n",
       "\n",
       "    .dataframe thead th {\n",
       "        text-align: right;\n",
       "    }\n",
       "</style>\n",
       "<table border=\"1\" class=\"dataframe\">\n",
       "  <thead>\n",
       "    <tr style=\"text-align: right;\">\n",
       "      <th></th>\n",
       "      <th>Molecule Name</th>\n",
       "      <th>Molecule Max Phase</th>\n",
       "      <th>Molecular Weight</th>\n",
       "      <th>#RO5 Violations</th>\n",
       "      <th>AlogP</th>\n",
       "      <th>Compound Key</th>\n",
       "      <th>Smiles</th>\n",
       "      <th>Standard Type</th>\n",
       "      <th>Standard Relation</th>\n",
       "      <th>Standard Value</th>\n",
       "      <th>...</th>\n",
       "      <th>Target ChEMBL ID</th>\n",
       "      <th>Target Name</th>\n",
       "      <th>Target Organism</th>\n",
       "      <th>Target Type</th>\n",
       "      <th>Document ChEMBL ID</th>\n",
       "      <th>Source ID</th>\n",
       "      <th>Source Description</th>\n",
       "      <th>Document Journal</th>\n",
       "      <th>Document Year</th>\n",
       "      <th>Cell ChEMBL ID</th>\n",
       "    </tr>\n",
       "    <tr>\n",
       "      <th>Molecule ChEMBL ID</th>\n",
       "      <th></th>\n",
       "      <th></th>\n",
       "      <th></th>\n",
       "      <th></th>\n",
       "      <th></th>\n",
       "      <th></th>\n",
       "      <th></th>\n",
       "      <th></th>\n",
       "      <th></th>\n",
       "      <th></th>\n",
       "      <th></th>\n",
       "      <th></th>\n",
       "      <th></th>\n",
       "      <th></th>\n",
       "      <th></th>\n",
       "      <th></th>\n",
       "      <th></th>\n",
       "      <th></th>\n",
       "      <th></th>\n",
       "      <th></th>\n",
       "      <th></th>\n",
       "    </tr>\n",
       "  </thead>\n",
       "  <tbody>\n",
       "    <tr>\n",
       "      <th>CHEMBL511</th>\n",
       "      <td>PYRILAMINE</td>\n",
       "      <td>4</td>\n",
       "      <td>285.39</td>\n",
       "      <td>0.0</td>\n",
       "      <td>2.66</td>\n",
       "      <td>Mepyramine</td>\n",
       "      <td>COc1ccc(CN(CCN(C)C)c2ccccn2)cc1</td>\n",
       "      <td>IC50</td>\n",
       "      <td>'='</td>\n",
       "      <td>34.0</td>\n",
       "      <td>...</td>\n",
       "      <td>CHEMBL3943</td>\n",
       "      <td>Histamine H1 receptor</td>\n",
       "      <td>Cavia porcellus</td>\n",
       "      <td>SINGLE PROTEIN</td>\n",
       "      <td>CHEMBL1132913</td>\n",
       "      <td>1</td>\n",
       "      <td>Scientific Literature</td>\n",
       "      <td>Bioorg. Med. Chem. Lett.</td>\n",
       "      <td>2000</td>\n",
       "      <td>NaN</td>\n",
       "    </tr>\n",
       "    <tr>\n",
       "      <th>CHEMBL553331</th>\n",
       "      <td>NaN</td>\n",
       "      <td>0</td>\n",
       "      <td>581.50</td>\n",
       "      <td>1.0</td>\n",
       "      <td>2.51</td>\n",
       "      <td>17</td>\n",
       "      <td>Cl.Cl.Cn1c(=O)c2c(ncn2CCCN2CCN(C(c3ccc(F)cc3)c...</td>\n",
       "      <td>IC50</td>\n",
       "      <td>'='</td>\n",
       "      <td>220.0</td>\n",
       "      <td>...</td>\n",
       "      <td>CHEMBL3943</td>\n",
       "      <td>Histamine H1 receptor</td>\n",
       "      <td>Cavia porcellus</td>\n",
       "      <td>SINGLE PROTEIN</td>\n",
       "      <td>CHEMBL1128457</td>\n",
       "      <td>1</td>\n",
       "      <td>Scientific Literature</td>\n",
       "      <td>J. Med. Chem.</td>\n",
       "      <td>1995</td>\n",
       "      <td>NaN</td>\n",
       "    </tr>\n",
       "    <tr>\n",
       "      <th>CHEMBL1202941</th>\n",
       "      <td>NaN</td>\n",
       "      <td>0</td>\n",
       "      <td>330.88</td>\n",
       "      <td>0.0</td>\n",
       "      <td>2.22</td>\n",
       "      <td>14</td>\n",
       "      <td>COc1cccc(C2SCC(=O)N2CCCN(C)C)c1.Cl</td>\n",
       "      <td>IC50</td>\n",
       "      <td>'='</td>\n",
       "      <td>25000.0</td>\n",
       "      <td>...</td>\n",
       "      <td>CHEMBL3943</td>\n",
       "      <td>Histamine H1 receptor</td>\n",
       "      <td>Cavia porcellus</td>\n",
       "      <td>SINGLE PROTEIN</td>\n",
       "      <td>CHEMBL1125507</td>\n",
       "      <td>1</td>\n",
       "      <td>Scientific Literature</td>\n",
       "      <td>J. Med. Chem.</td>\n",
       "      <td>1992</td>\n",
       "      <td>NaN</td>\n",
       "    </tr>\n",
       "  </tbody>\n",
       "</table>\n",
       "<p>3 rows × 40 columns</p>\n",
       "</div>"
      ],
      "text/plain": [
       "                   Molecule Name  Molecule Max Phase  Molecular Weight  \\\n",
       "Molecule ChEMBL ID                                                       \n",
       "CHEMBL511             PYRILAMINE                   4            285.39   \n",
       "CHEMBL553331                 NaN                   0            581.50   \n",
       "CHEMBL1202941                NaN                   0            330.88   \n",
       "\n",
       "                    #RO5 Violations  AlogP Compound Key  \\\n",
       "Molecule ChEMBL ID                                        \n",
       "CHEMBL511                       0.0   2.66   Mepyramine   \n",
       "CHEMBL553331                    1.0   2.51           17   \n",
       "CHEMBL1202941                   0.0   2.22           14   \n",
       "\n",
       "                                                               Smiles  \\\n",
       "Molecule ChEMBL ID                                                      \n",
       "CHEMBL511                             COc1ccc(CN(CCN(C)C)c2ccccn2)cc1   \n",
       "CHEMBL553331        Cl.Cl.Cn1c(=O)c2c(ncn2CCCN2CCN(C(c3ccc(F)cc3)c...   \n",
       "CHEMBL1202941                      COc1cccc(C2SCC(=O)N2CCCN(C)C)c1.Cl   \n",
       "\n",
       "                   Standard Type Standard Relation  Standard Value  ...  \\\n",
       "Molecule ChEMBL ID                                                  ...   \n",
       "CHEMBL511                   IC50               '='            34.0  ...   \n",
       "CHEMBL553331                IC50               '='           220.0  ...   \n",
       "CHEMBL1202941               IC50               '='         25000.0  ...   \n",
       "\n",
       "                   Target ChEMBL ID            Target Name  Target Organism  \\\n",
       "Molecule ChEMBL ID                                                            \n",
       "CHEMBL511                CHEMBL3943  Histamine H1 receptor  Cavia porcellus   \n",
       "CHEMBL553331             CHEMBL3943  Histamine H1 receptor  Cavia porcellus   \n",
       "CHEMBL1202941            CHEMBL3943  Histamine H1 receptor  Cavia porcellus   \n",
       "\n",
       "                       Target Type Document ChEMBL ID  Source ID  \\\n",
       "Molecule ChEMBL ID                                                 \n",
       "CHEMBL511           SINGLE PROTEIN      CHEMBL1132913          1   \n",
       "CHEMBL553331        SINGLE PROTEIN      CHEMBL1128457          1   \n",
       "CHEMBL1202941       SINGLE PROTEIN      CHEMBL1125507          1   \n",
       "\n",
       "                       Source Description          Document Journal  \\\n",
       "Molecule ChEMBL ID                                                    \n",
       "CHEMBL511           Scientific Literature  Bioorg. Med. Chem. Lett.   \n",
       "CHEMBL553331        Scientific Literature             J. Med. Chem.   \n",
       "CHEMBL1202941       Scientific Literature             J. Med. Chem.   \n",
       "\n",
       "                    Document Year  Cell ChEMBL ID  \n",
       "Molecule ChEMBL ID                                 \n",
       "CHEMBL511                    2000             NaN  \n",
       "CHEMBL553331                 1995             NaN  \n",
       "CHEMBL1202941                1992             NaN  \n",
       "\n",
       "[3 rows x 40 columns]"
      ]
     },
     "execution_count": 3,
     "metadata": {},
     "output_type": "execute_result"
    }
   ],
   "source": [
    "df = df.loc[df['Standard Type']=='IC50',:]\n",
    "print(df.shape)\n",
    "df.head(3)"
   ]
  },
  {
   "cell_type": "code",
   "execution_count": 4,
   "metadata": {},
   "outputs": [],
   "source": [
    "df['mol'] = df.loc[df['Standard Type']=='IC50',:]['Smiles'].apply(Chem.MolFromSmiles)\n",
    "\n",
    "df['Standard Relation'] = df['Standard Relation'].astype(str)\n",
    "df['REL'] = df['Standard Relation'].apply(str)\n",
    "df['RELATION'] = df['REL'].apply(lambda s:s.replace(\"'\",\"\"))\n",
    "df = df.loc[(df['RELATION']=='=').values.tolist(),:]"
   ]
  },
  {
   "cell_type": "markdown",
   "metadata": {},
   "source": [
    "## 構造を目視"
   ]
  },
  {
   "cell_type": "code",
   "execution_count": 5,
   "metadata": {},
   "outputs": [
    {
     "data": {
      "image/png": "[encoded data removed]",
      "text/plain": [
       "<PIL.PngImagePlugin.PngImageFile image mode=RGB size=800x200 at 0x23C4D53A0F0>"
      ]
     },
     "execution_count": 5,
     "metadata": {},
     "output_type": "execute_result"
    }
   ],
   "source": [
    "Draw.MolsToGridImage(df['mol'].values[:4], molsPerRow=4)"
   ]
  },
  {
   "cell_type": "code",
   "execution_count": 6,
   "metadata": {},
   "outputs": [
    {
     "data": {
      "image/png": "[encoded data removed]",
      "text/plain": [
       "<Figure size 864x576 with 1 Axes>"
      ]
     },
     "metadata": {
      "needs_background": "light"
     },
     "output_type": "display_data"
    },
    {
     "data": {
      "image/png": "[encoded data removed]",
      "text/plain": [
       "<Figure size 864x576 with 1 Axes>"
      ]
     },
     "metadata": {
      "needs_background": "light"
     },
     "output_type": "display_data"
    }
   ],
   "source": [
    "plt.plot(df['Standard Value'], 'o')\n",
    "plt.title('IC50')\n",
    "plt.show()\n",
    "\n",
    "df['pIC50'] = -np.log(df['Standard Value'])\n",
    "plt.plot(df['pIC50'], 'o')\n",
    "plt.title('pIC50')\n",
    "plt.show()"
   ]
  },
  {
   "cell_type": "markdown",
   "metadata": {},
   "source": [
    "### pIC50によるクラス分け\n",
    "\n",
    "低IC50(inhibitory concentration, IC)、すなわち高pIC50($=-{\\rm log}IC_{50}$)のものほど\n",
    "阻害剤としての性能が高いことを示す。\n",
    "\n",
    "pIC50の上位50%を正例とした"
   ]
  },
  {
   "cell_type": "code",
   "execution_count": 7,
   "metadata": {},
   "outputs": [],
   "source": [
    "is_inhibitor = df['pIC50']>=df['pIC50'].quantile(.5)\n",
    "df['IS_INHIBITOR'] = is_inhibitor\n",
    "df['CLASS']=df['IS_INHIBITOR'].astype(np.int)"
   ]
  },
  {
   "cell_type": "code",
   "execution_count": 8,
   "metadata": {},
   "outputs": [],
   "source": [
    "df_train, df_test = train_test_split(df, test_size=.33, random_state=31415926, stratify=df['CLASS'])"
   ]
  },
  {
   "cell_type": "code",
   "execution_count": 9,
   "metadata": {},
   "outputs": [],
   "source": [
    "ytrain = df_train['CLASS']\n",
    "ytest  = df_test['CLASS']"
   ]
  },
  {
   "cell_type": "markdown",
   "metadata": {},
   "source": [
    "### RDKit記述子"
   ]
  },
  {
   "cell_type": "code",
   "execution_count": 10,
   "metadata": {},
   "outputs": [
    {
     "name": "stdout",
     "output_type": "stream",
     "text": [
      "train 0.920\n",
      "test 0.582\n"
     ]
    }
   ],
   "source": [
    "params = {'gamma': 2.**np.arange(-10,11),\n",
    "          'C': 2.**np.arange(-10,11)}\n",
    "\n",
    "calc_rd = RDKitDescriptor()\n",
    "model_rd = GridSearchCV(SVC(), params, cv=3)\n",
    "Xtrain = calc_rd.fit_transform(df_train['mol'])\n",
    "Xtest = calc_rd.transform(df_test['mol'])\n",
    "model_rd.fit(Xtrain, ytrain)\n",
    "ycalc = model_rd.predict(Xtrain)\n",
    "ypred = model_rd.predict(Xtest)\n",
    "for name, yo, yp in zip(['train', 'test'], [ytrain, ytest], [ycalc, ypred]):\n",
    "    print(name, '{:.3f}'.format(metrics.f1_score(yo, yp)))"
   ]
  },
  {
   "cell_type": "code",
   "execution_count": 11,
   "metadata": {},
   "outputs": [
    {
     "data": {
      "text/plain": [
       "24"
      ]
     },
     "execution_count": 11,
     "metadata": {},
     "output_type": "execute_result"
    }
   ],
   "source": [
    "jl_dump(model_rd, '../models/rdkit_svm.joblib')\n",
    "del model_rd\n",
    "gc.collect()"
   ]
  },
  {
   "cell_type": "markdown",
   "metadata": {},
   "source": [
    "### Morganフィンガープリントとタニモトカーネル\n",
    "\n",
    "`Pipeline`と`GridSearchCV`を使ってパラメータ探索する"
   ]
  },
  {
   "cell_type": "code",
   "execution_count": 12,
   "metadata": {},
   "outputs": [],
   "source": [
    "def jaccard(u,v):\n",
    "    \"\"\"構造の有無にまるめて判定。フラグメントカウントは扱えない\"\"\"\n",
    "    return np.sum(np.logical_and(np.array(u), np.array(v)))/np.sum(np.logical_or(np.array(u), np.array(v)))\n",
    "\n",
    "def jaccard_bulk(X, Y):\n",
    "    return cdist(X, Y, metric=jaccard)"
   ]
  },
  {
   "cell_type": "code",
   "execution_count": 13,
   "metadata": {},
   "outputs": [
    {
     "name": "stdout",
     "output_type": "stream",
     "text": [
      "train 0.856\n",
      "test 0.696\n"
     ]
    }
   ],
   "source": [
    "# 試し書き\n",
    "svm_tani = Pipeline([('morgan', HashedMorgan(n_bits=512,radius=3)),\n",
    "                     ('svm', SVC(kernel=jaccard_bulk))])\n",
    "svm_tani.fit(df_train['mol'], ytrain)\n",
    "\n",
    "ycalc = svm_tani.predict(df_train['mol'])\n",
    "ypred = svm_tani.predict(df_test['mol'])\n",
    "for name, yo, yp in zip(['train', 'test'], [ytrain, ytest], [ycalc, ypred]):\n",
    "    print(name, '{:.3f}'.format(metrics.f1_score(yo, yp)))"
   ]
  },
  {
   "cell_type": "code",
   "execution_count": 24,
   "metadata": {},
   "outputs": [
    {
     "data": {
      "image/png": "[encoded data removed]",
      "text/plain": [
       "<Figure size 864x576 with 1 Axes>"
      ]
     },
     "metadata": {
      "needs_background": "light"
     },
     "output_type": "display_data"
    },
    {
     "data": {
      "image/png": "[encoded data removed]",
      "text/plain": [
       "<Figure size 864x576 with 1 Axes>"
      ]
     },
     "metadata": {
      "needs_background": "light"
     },
     "output_type": "display_data"
    }
   ],
   "source": [
    "plt.hist(list(map(dict(Chem.Descriptors.descList)['MolWt'], df['mol'])), bins=20)\n",
    "plt.title('分子量の分布')\n",
    "plt.savefig('../results/10.4-chembl-molwt.jpg')\n",
    "plt.show()\n",
    "plt.hist(list(map(lambda m:len(m.GetAtoms()), df['mol'])), bins=20)\n",
    "plt.title('原子の数の分布')\n",
    "plt.savefig('../results/10.4-chembl-n_atoms.jpg')\n",
    "plt.show()"
   ]
  },
  {
   "cell_type": "code",
   "execution_count": 15,
   "metadata": {},
   "outputs": [
    {
     "name": "stdout",
     "output_type": "stream",
     "text": [
      "Wall time: 15min 35s\n",
      "train 0.706\n",
      "test 0.738\n"
     ]
    }
   ],
   "source": [
    "params_mo = {'svm__C': 2.**np.arange(-8, 9),\n",
    "             'morgan__n_bits': 2**np.arange(4,11),\n",
    "             'morgan__radius': np.arange(3,6)}\n",
    "\n",
    "pipe = Pipeline([('morgan', HashedMorgan(n_bits=512,radius=3)),\n",
    "                     ('svm', SVC(kernel=jaccard_bulk))])\n",
    "svm_tani = GridSearchCV(pipe, params_mo, cv=3)\n",
    "%time svm_tani.fit(df_train['mol'], ytrain)\n",
    "\n",
    "ycalc = svm_tani.predict(df_train['mol'])\n",
    "ypred = svm_tani.predict(df_test['mol'])\n",
    "\n",
    "\n",
    "for name, yo, yp in zip(['train', 'test'], [ytrain, ytest], [ycalc, ypred]):\n",
    "    print(name, '{:.3f}'.format(metrics.f1_score(yo, yp)))"
   ]
  },
  {
   "cell_type": "code",
   "execution_count": 16,
   "metadata": {},
   "outputs": [
    {
     "data": {
      "text/plain": [
       "7404"
      ]
     },
     "execution_count": 16,
     "metadata": {},
     "output_type": "execute_result"
    }
   ],
   "source": [
    "jl_dump(svm_tani, '../models/morgan_svm.joblib')\n",
    "del svm_tani\n",
    "gc.collect()"
   ]
  },
  {
   "cell_type": "markdown",
   "metadata": {},
   "source": [
    "### RDKitフィンガープリント"
   ]
  },
  {
   "cell_type": "code",
   "execution_count": 17,
   "metadata": {},
   "outputs": [
    {
     "name": "stdout",
     "output_type": "stream",
     "text": [
      "Wall time: 35min 17s\n",
      "train 0.655\n",
      "test 0.659\n"
     ]
    }
   ],
   "source": [
    "params_rdfrag = {'svm__C': 2.**np.arange(-8, 9),\n",
    "             'rdfrag__n_bits': 2**np.arange(4,11),\n",
    "             'rdfrag__fraglen': np.arange(3,8)}\n",
    "pipe2 = Pipeline([('rdfrag', RDKitFingerprint()),\n",
    "                  ('svm', SVC(kernel=jaccard_bulk))])\n",
    "\n",
    "svm_rdtani = GridSearchCV(pipe2, params_rdfrag, cv=3)\n",
    "%time svm_rdtani.fit(df_train['mol'], ytrain)\n",
    "\n",
    "ycalc = svm_rdtani.predict(df_train['mol'])\n",
    "ypred = svm_rdtani.predict(df_test['mol'])\n",
    "\n",
    "for name, yo, yp in zip(['train', 'test'], [ytrain, ytest], [ycalc, ypred]):\n",
    "    print(name, '{:.3f}'.format(metrics.f1_score(yo, yp)))"
   ]
  },
  {
   "cell_type": "code",
   "execution_count": 18,
   "metadata": {},
   "outputs": [
    {
     "data": {
      "text/plain": [
       "24"
      ]
     },
     "execution_count": 18,
     "metadata": {},
     "output_type": "execute_result"
    }
   ],
   "source": [
    "jl_dump(svm_rdtani, '../models/rdfrags_svm.joblib')\n",
    "del svm_rdtani\n",
    "gc.collect()"
   ]
  },
  {
   "cell_type": "markdown",
   "metadata": {},
   "source": [
    "### スコアとモデルパラメータ"
   ]
  },
  {
   "cell_type": "code",
   "execution_count": 23,
   "metadata": {},
   "outputs": [
    {
     "name": "stdout",
     "output_type": "stream",
     "text": [
      "morgan_svm.joblib 0.643 {'morgan__n_bits': 64, 'morgan__radius': 4, 'svm__C': 1.0}\n",
      "rdfrags_svm.joblib 0.607 {'rdfrag__fraglen': 3, 'rdfrag__n_bits': 128, 'svm__C': 0.00390625}\n",
      "rdkit_svm.joblib 0.512 {'C': 1.0, 'gamma': 0.0009765625}\n"
     ]
    }
   ],
   "source": [
    "from joblib import load\n",
    "from glob import glob \n",
    "for modelpath in glob('../models/*_svm.joblib'):\n",
    "    m = load(modelpath)\n",
    "    print(modelpath.replace('../models\\\\',''), '%.3f'%m.best_score_, m.best_params_)"
   ]
  },
  {
   "cell_type": "markdown",
   "metadata": {},
   "source": [
    "#### 記述子ごとのF1-score\n",
    "\n",
    "|    |train|cv|test|\n",
    "|:---|:---|:---|:---|\n",
    "|rdkit_svm|0.920|0.512 |0.582|\n",
    "|morgan_svm|0.706|0.643 |0.738|\n",
    "|rdfrags_svm|0.655|0.607 |0.659| "
   ]
  },
  {
   "cell_type": "markdown",
   "metadata": {},
   "source": [
    "### REFERENCES: `sklearn.svm.SVC`で自作カーネル関数を導入する例\n",
    "\n",
    "- [Documentation](https://scikit-learn.org/stable/modules/svm.html#using-python-functions-as-kernels)\n",
    "- [Example](https://scikit-learn.org/stable/auto_examples/svm/plot_custom_kernel.html#svm-with-custom-kernel)"
   ]
  }
 ],
 "metadata": {
  "kernelspec": {
   "display_name": "Python 3",
   "language": "python",
   "name": "python3"
  },
  "language_info": {
   "codemirror_mode": {
    "name": "ipython",
    "version": 3
   },
   "file_extension": ".py",
   "mimetype": "text/x-python",
   "name": "python",
   "nbconvert_exporter": "python",
   "pygments_lexer": "ipython3",
   "version": "3.7.0"
  }
 },
 "nbformat": 4,
 "nbformat_minor": 4
}
