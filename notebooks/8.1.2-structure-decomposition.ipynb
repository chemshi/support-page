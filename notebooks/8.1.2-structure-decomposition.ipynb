{
 "cells": [
  {
   "cell_type": "markdown",
   "metadata": {},
   "source": [
    "# RECAPを使った分解"
   ]
  },
  {
   "cell_type": "code",
   "execution_count": 1,
   "metadata": {},
   "outputs": [],
   "source": [
    "import pandas as pd"
   ]
  },
  {
   "cell_type": "code",
   "execution_count": 2,
   "metadata": {},
   "outputs": [
    {
     "data": {
      "text/html": [
       "<div>\n",
       "<style scoped>\n",
       "    .dataframe tbody tr th:only-of-type {\n",
       "        vertical-align: middle;\n",
       "    }\n",
       "\n",
       "    .dataframe tbody tr th {\n",
       "        vertical-align: top;\n",
       "    }\n",
       "\n",
       "    .dataframe thead th {\n",
       "        text-align: right;\n",
       "    }\n",
       "</style>\n",
       "<table border=\"1\" class=\"dataframe\">\n",
       "  <thead>\n",
       "    <tr style=\"text-align: right;\">\n",
       "      <th></th>\n",
       "      <th>Compound ID</th>\n",
       "      <th>ESOL predicted log solubility in mols per litre</th>\n",
       "      <th>Minimum Degree</th>\n",
       "      <th>Molecular Weight</th>\n",
       "      <th>Number of H-Bond Donors</th>\n",
       "      <th>Number of Rings</th>\n",
       "      <th>Number of Rotatable Bonds</th>\n",
       "      <th>Polar Surface Area</th>\n",
       "      <th>measured log solubility in mols per litre</th>\n",
       "      <th>smiles</th>\n",
       "    </tr>\n",
       "  </thead>\n",
       "  <tbody>\n",
       "    <tr>\n",
       "      <th>639</th>\n",
       "      <td>3-Hexyne</td>\n",
       "      <td>-1.933</td>\n",
       "      <td>1</td>\n",
       "      <td>82.146</td>\n",
       "      <td>0</td>\n",
       "      <td>0</td>\n",
       "      <td>0</td>\n",
       "      <td>0.00</td>\n",
       "      <td>-1.99</td>\n",
       "      <td>CCC#CCC</td>\n",
       "    </tr>\n",
       "    <tr>\n",
       "      <th>925</th>\n",
       "      <td>RTI 6</td>\n",
       "      <td>-3.335</td>\n",
       "      <td>1</td>\n",
       "      <td>313.361</td>\n",
       "      <td>2</td>\n",
       "      <td>3</td>\n",
       "      <td>4</td>\n",
       "      <td>81.59</td>\n",
       "      <td>-3.36</td>\n",
       "      <td>CCN2c1nc(N(C)(CCO))ccc1NC(=O)c3cccnc23</td>\n",
       "    </tr>\n",
       "    <tr>\n",
       "      <th>692</th>\n",
       "      <td>2,3,4-Trichlorophenol</td>\n",
       "      <td>-3.705</td>\n",
       "      <td>1</td>\n",
       "      <td>197.448</td>\n",
       "      <td>1</td>\n",
       "      <td>1</td>\n",
       "      <td>0</td>\n",
       "      <td>20.23</td>\n",
       "      <td>-2.67</td>\n",
       "      <td>Oc1ccc(Cl)c(Cl)c1Cl</td>\n",
       "    </tr>\n",
       "  </tbody>\n",
       "</table>\n",
       "</div>"
      ],
      "text/plain": [
       "               Compound ID  ESOL predicted log solubility in mols per litre  \\\n",
       "639               3-Hexyne                                           -1.933   \n",
       "925                  RTI 6                                           -3.335   \n",
       "692  2,3,4-Trichlorophenol                                           -3.705   \n",
       "\n",
       "     Minimum Degree  Molecular Weight  Number of H-Bond Donors  \\\n",
       "639               1            82.146                        0   \n",
       "925               1           313.361                        2   \n",
       "692               1           197.448                        1   \n",
       "\n",
       "     Number of Rings  Number of Rotatable Bonds  Polar Surface Area  \\\n",
       "639                0                          0                0.00   \n",
       "925                3                          4               81.59   \n",
       "692                1                          0               20.23   \n",
       "\n",
       "     measured log solubility in mols per litre  \\\n",
       "639                                      -1.99   \n",
       "925                                      -3.36   \n",
       "692                                      -2.67   \n",
       "\n",
       "                                      smiles  \n",
       "639                                  CCC#CCC  \n",
       "925  CCN2c1nc(N(C)(CCO))ccc1NC(=O)c3cccnc23   \n",
       "692                      Oc1ccc(Cl)c(Cl)c1Cl  "
      ]
     },
     "execution_count": 2,
     "metadata": {},
     "output_type": "execute_result"
    }
   ],
   "source": [
    "df = pd.read_csv('../data/delaney-solubility/delaney-processed.csv')\n",
    "df.sample(3)"
   ]
  },
  {
   "cell_type": "code",
   "execution_count": 3,
   "metadata": {},
   "outputs": [
    {
     "name": "stdout",
     "output_type": "stream",
     "text": [
      "rdkit version 2018.03.4\n"
     ]
    }
   ],
   "source": [
    "import rdkit \n",
    "print('rdkit version', rdkit.__version__)\n",
    "from rdkit.Chem import MolFromSmiles, Descriptors"
   ]
  },
  {
   "cell_type": "code",
   "execution_count": 4,
   "metadata": {},
   "outputs": [],
   "source": [
    "df['mol'] = df['smiles'].apply(MolFromSmiles)"
   ]
  },
  {
   "cell_type": "markdown",
   "metadata": {},
   "source": [
    "## ReCAPの階層構造可視化"
   ]
  },
  {
   "cell_type": "code",
   "execution_count": 5,
   "metadata": {},
   "outputs": [
    {
     "name": "stderr",
     "output_type": "stream",
     "text": [
      "c:\\users\\shojiro_shibayama\\miniconda3\\envs\\cheminfo\\lib\\site-packages\\ipykernel_launcher.py:1: FutureWarning: 'argmax' is deprecated, use 'idxmax' instead. The behavior of 'argmax'\n",
      "will be corrected to return the positional maximum in the future.\n",
      "Use 'series.values.argmax' to get the position of the maximum now.\n",
      "  \"\"\"Entry point for launching an IPython kernel.\n"
     ]
    },
    {
     "data": {
      "text/plain": [
       "<rdkit.Chem.rdchem.Mol at 0x1dc43de3f30>"
      ]
     },
     "execution_count": 5,
     "metadata": {},
     "output_type": "execute_result"
    }
   ],
   "source": [
    "index_maxmolwt = df['mol'].apply(dict(Descriptors.descList)['MolWt']).argmax()\n",
    "df['mol'].iloc[index_maxmolwt]"
   ]
  },
  {
   "cell_type": "code",
   "execution_count": 6,
   "metadata": {},
   "outputs": [],
   "source": [
    "base_mol = df['mol'].iloc[index_maxmolwt]"
   ]
  },
  {
   "cell_type": "code",
   "execution_count": 7,
   "metadata": {},
   "outputs": [],
   "source": [
    "from rdkit import Chem\n",
    "from rdkit.Chem import Draw\n",
    "from rdkit.Chem import Recap"
   ]
  },
  {
   "cell_type": "code",
   "execution_count": 8,
   "metadata": {},
   "outputs": [],
   "source": [
    "decomp = Recap.RecapDecompose(base_mol)\n",
    "layer1 = [node.mol for node in decomp.children.values()]"
   ]
  },
  {
   "cell_type": "markdown",
   "metadata": {},
   "source": [
    "## 再帰関数によるSMILESの表示"
   ]
  },
  {
   "cell_type": "code",
   "execution_count": 9,
   "metadata": {},
   "outputs": [
    {
     "name": "stdout",
     "output_type": "stream",
     "text": [
      "*C1CC(O)C(O)C(C)O1\n",
      "*C1C(O)CC(OC2C(O)CC(OC3CCC4(C)C(CCC5C4CC(O)C4(C)C(C6=CC(=O)OC6)CCC54O)C3)OC2C)OC1C\n",
      "  > *C1CC(O)C(*)C(C)O1\n",
      "  > *C1C(O)CC(OC2CCC3(C)C(CCC4C3CC(O)C3(C)C(C5=CC(=O)OC5)CCC43O)C2)OC1C\n",
      "  >   > *C1CC(O)C(*)C(C)O1\n",
      "  >   > *C1CCC2(C)C(CCC3C2CC(O)C2(C)C(C4=CC(=O)OC4)CCC32O)C1\n",
      "  > *C1CC(O)C(OC2CC(O)C(*)C(C)O2)C(C)O1\n",
      "  >   > *C1CC(O)C(*)C(C)O1\n",
      "  > *C1CCC2(C)C(CCC3C2CC(O)C2(C)C(C4=CC(=O)OC4)CCC32O)C1\n",
      "*C1CC(O)C(OC2CC(O)C(O)C(C)O2)C(C)O1\n",
      "  > *C1CC(O)C(*)C(C)O1\n",
      "  > *C1CC(O)C(O)C(C)O1\n",
      "*C1C(O)CC(OC2CCC3(C)C(CCC4C3CC(O)C3(C)C(C5=CC(=O)OC5)CCC43O)C2)OC1C\n",
      "  > *C1CC(O)C(*)C(C)O1\n",
      "  > *C1CCC2(C)C(CCC3C2CC(O)C2(C)C(C4=CC(=O)OC4)CCC32O)C1\n",
      "*C1CC(O)C(OC2CC(O)C(OC3CC(O)C(O)C(C)O3)C(C)O2)C(C)O1\n",
      "  > *C1CC(O)C(*)C(C)O1\n",
      "  > *C1CC(O)C(OC2CC(O)C(O)C(C)O2)C(C)O1\n",
      "  >   > *C1CC(O)C(*)C(C)O1\n",
      "  >   > *C1CC(O)C(O)C(C)O1\n",
      "  > *C1CC(O)C(O)C(C)O1\n",
      "  > *C1CC(O)C(OC2CC(O)C(*)C(C)O2)C(C)O1\n",
      "  >   > *C1CC(O)C(*)C(C)O1\n",
      "*C1CCC2(C)C(CCC3C2CC(O)C2(C)C(C4=CC(=O)OC4)CCC32O)C1\n"
     ]
    }
   ],
   "source": [
    "def dump_leaves(recap_root, n_nests=1):\n",
    "    for leaf in recap_root.children.values():\n",
    "        print('  > '*(n_nests-1) + leaf.smiles)\n",
    "        dump_leaves(leaf, n_nests=n_nests+1)\n",
    "\n",
    "dump_leaves(decomp)"
   ]
  },
  {
   "cell_type": "code",
   "execution_count": 10,
   "metadata": {},
   "outputs": [],
   "source": [
    "from pprint import pprint"
   ]
  },
  {
   "cell_type": "markdown",
   "metadata": {},
   "source": [
    "## 取り出したフラグメントの数え上げ"
   ]
  },
  {
   "cell_type": "code",
   "execution_count": 11,
   "metadata": {},
   "outputs": [
    {
     "name": "stdout",
     "output_type": "stream",
     "text": [
      "取り出された全てのフラグメント 8\n",
      "{'*C1C(O)CC(OC2C(O)CC(OC3CCC4(C)C(CCC5C4CC(O)C4(C)C(C6=CC(=O)OC6)CCC54O)C3)OC2C)OC1C',\n",
      " '*C1C(O)CC(OC2CCC3(C)C(CCC4C3CC(O)C3(C)C(C5=CC(=O)OC5)CCC43O)C2)OC1C',\n",
      " '*C1CC(O)C(*)C(C)O1',\n",
      " '*C1CC(O)C(O)C(C)O1',\n",
      " '*C1CC(O)C(OC2CC(O)C(*)C(C)O2)C(C)O1',\n",
      " '*C1CC(O)C(OC2CC(O)C(O)C(C)O2)C(C)O1',\n",
      " '*C1CC(O)C(OC2CC(O)C(OC3CC(O)C(O)C(C)O3)C(C)O2)C(C)O1',\n",
      " '*C1CCC2(C)C(CCC3C2CC(O)C2(C)C(C4=CC(=O)OC4)CCC32O)C1'}\n"
     ]
    }
   ],
   "source": [
    "def extract(ret, parent):\n",
    "    for child in parent.children.values():\n",
    "        ret += [child.smiles]\n",
    "        extract(ret, child)\n",
    "list_recap=[]\n",
    "extract(list_recap, decomp)\n",
    "print('取り出された全てのフラグメント', len(set(list_recap)))\n",
    "pprint(set(list_recap))"
   ]
  },
  {
   "cell_type": "code",
   "execution_count": 12,
   "metadata": {},
   "outputs": [
    {
     "name": "stdout",
     "output_type": "stream",
     "text": [
      "Warning: unable to load font metrics from dir c:\\users\\shojiro_shibayama\\miniconda3\\envs\\cheminfo\\lib\\site-packages\\rdkit\\sping\\PIL\\pilfonts\n"
     ]
    },
    {
     "data": {
      "image/png": "[encoded data removed]",
      "text/plain": [
       "<PIL.Image.Image image mode=RGBA size=600x400 at 0x1DC44E12160>"
      ]
     },
     "execution_count": 12,
     "metadata": {},
     "output_type": "execute_result"
    }
   ],
   "source": [
    "Draw.MolsToGridImage(layer1, molsPerRow=3)"
   ]
  },
  {
   "cell_type": "code",
   "execution_count": 13,
   "metadata": {},
   "outputs": [],
   "source": [
    "import networkx as nx\n",
    "import matplotlib.pyplot as plt"
   ]
  },
  {
   "cell_type": "code",
   "execution_count": 14,
   "metadata": {},
   "outputs": [],
   "source": [
    "molwt = lambda m:dict(Descriptors.descList)['MolWt'](m)"
   ]
  },
  {
   "cell_type": "markdown",
   "metadata": {},
   "source": [
    "## 分子1構造のRECAPフラグメントネットワークの可視化\n",
    "\n",
    "... 今回のサンプルでは複数のフラグメントが同じフラグメントに収束することが分かる"
   ]
  },
  {
   "cell_type": "code",
   "execution_count": 15,
   "metadata": {},
   "outputs": [
    {
     "name": "stdout",
     "output_type": "stream",
     "text": [
      "9\n"
     ]
    },
    {
     "name": "stderr",
     "output_type": "stream",
     "text": [
      "c:\\users\\shojiro_shibayama\\miniconda3\\envs\\cheminfo\\lib\\site-packages\\networkx\\drawing\\nx_pylab.py:579: MatplotlibDeprecationWarning: \n",
      "The iterable function was deprecated in Matplotlib 3.1 and will be removed in 3.3. Use np.iterable instead.\n",
      "  if not cb.iterable(width):\n",
      "c:\\users\\shojiro_shibayama\\miniconda3\\envs\\cheminfo\\lib\\site-packages\\networkx\\drawing\\nx_pylab.py:676: MatplotlibDeprecationWarning: \n",
      "The iterable function was deprecated in Matplotlib 3.1 and will be removed in 3.3. Use np.iterable instead.\n",
      "  if cb.iterable(node_size):  # many node sizes\n"
     ]
    },
    {
     "data": {
      "image/png": "[encoded data removed]",
      "text/plain": [
       "<Figure size 432x288 with 1 Axes>"
      ]
     },
     "metadata": {},
     "output_type": "display_data"
    }
   ],
   "source": [
    "D = nx.DiGraph()\n",
    "from copy import deepcopy \n",
    "\n",
    "def grow_leaves(G, parent, n_levels=1):\n",
    "    if n_levels==1:\n",
    "        G.add_node(parent.smiles)\n",
    "    if parent.children:\n",
    "        for leaf in parent.children.values():\n",
    "            properties = {\n",
    "                'smiles':leaf.smiles, \n",
    "                'molwt': molwt(leaf.mol),\n",
    "            }\n",
    "            G.add_edge(parent.smiles, leaf.smiles,\n",
    "                       **properties)\n",
    "            grow_leaves(G, leaf, n_levels+1)\n",
    "    return G\n",
    "parent = deepcopy(decomp)\n",
    "grow_leaves(D, decomp)\n",
    "print(len(D))\n",
    "\n",
    "nx.draw(D)\n",
    "plt.show()"
   ]
  },
  {
   "cell_type": "code",
   "execution_count": 16,
   "metadata": {},
   "outputs": [
    {
     "data": {
      "text/plain": [
       "['r', 'g', 'g', 'g', 'g', 'g', 'g', 'g', 'g']"
      ]
     },
     "execution_count": 16,
     "metadata": {},
     "output_type": "execute_result"
    }
   ],
   "source": [
    "colors=['r']+['g']*(len(D)-1)\n",
    "colors # 木の最初(親ノード)だけを赤、それ以外を緑で色付けする準備"
   ]
  },
  {
   "cell_type": "code",
   "execution_count": 17,
   "metadata": {},
   "outputs": [
    {
     "data": {
      "text/plain": [
       "'2.3'"
      ]
     },
     "execution_count": 17,
     "metadata": {},
     "output_type": "execute_result"
    }
   ],
   "source": [
    "nx.__version__"
   ]
  },
  {
   "cell_type": "code",
   "execution_count": 27,
   "metadata": {},
   "outputs": [],
   "source": [
    "# list(D)\n",
    "from rdkit.Chem.Draw import IPythonConsole "
   ]
  },
  {
   "cell_type": "code",
   "execution_count": 32,
   "metadata": {},
   "outputs": [
    {
     "data": {
      "image/png": "[encoded data removed]",
      "text/plain": [
       "<Figure size 432x288 with 1 Axes>"
      ]
     },
     "metadata": {},
     "output_type": "display_data"
    }
   ],
   "source": [
    "smiles_parent = Chem.MolToSmiles(decomp.mol)\n",
    "list_sizes=[600 if smi == smiles_parent else 200 for smi in list(D)]\n",
    "nx.draw_circular(D, node_shape='h', node_size=list_sizes) # node_color=colors, \n",
    "plt.show()"
   ]
  },
  {
   "cell_type": "code",
   "execution_count": null,
   "metadata": {},
   "outputs": [],
   "source": []
  }
 ],
 "metadata": {
  "kernelspec": {
   "display_name": "Python 3",
   "language": "python",
   "name": "python3"
  },
  "language_info": {
   "codemirror_mode": {
    "name": "ipython",
    "version": 3
   },
   "file_extension": ".py",
   "mimetype": "text/x-python",
   "name": "python",
   "nbconvert_exporter": "python",
   "pygments_lexer": "ipython3",
   "version": "3.7.0"
  }
 },
 "nbformat": 4,
 "nbformat_minor": 4
}
