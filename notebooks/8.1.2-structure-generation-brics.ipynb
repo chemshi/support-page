{
 "cells": [
  {
   "cell_type": "markdown",
   "metadata": {},
   "source": [
    "# BRICSを使った構造生成"
   ]
  },
  {
   "cell_type": "code",
   "execution_count": 1,
   "metadata": {},
   "outputs": [],
   "source": [
    "import pandas as pd\n",
    "df = pd.read_csv('../data/delaney-solubility/delaney-processed.csv')"
   ]
  },
  {
   "cell_type": "code",
   "execution_count": 2,
   "metadata": {},
   "outputs": [
    {
     "name": "stdout",
     "output_type": "stream",
     "text": [
      "2019.09.3\n"
     ]
    },
    {
     "name": "stderr",
     "output_type": "stream",
     "text": [
      "RDKit WARNING: [20:33:06] Enabling RDKit 2019.09.3 jupyter extensions\n"
     ]
    }
   ],
   "source": [
    "from rdkit.Chem import MolFromSmiles\n",
    "from rdkit import Chem \n",
    "import rdkit \n",
    "print(rdkit.__version__)\n",
    "df['mol'] = df['smiles'].apply(MolFromSmiles)"
   ]
  },
  {
   "cell_type": "code",
   "execution_count": 6,
   "metadata": {},
   "outputs": [],
   "source": [
    "from rdkit.Chem import BRICS, Recap"
   ]
  },
  {
   "cell_type": "code",
   "execution_count": 9,
   "metadata": {},
   "outputs": [
    {
     "name": "stdout",
     "output_type": "stream",
     "text": [
      "1個目の分子からBRICSにより見つかるフラグメントの数 6\n"
     ]
    }
   ],
   "source": [
    "print('1個目の分子からBRICSにより見つかるフラグメントの数', len(BRICS.BRICSDecompose(df['mol'][0])))"
   ]
  },
  {
   "cell_type": "code",
   "execution_count": 5,
   "metadata": {},
   "outputs": [
    {
     "data": {
      "image/png": "[encoded data removed]",
      "text/plain": [
       "<rdkit.Chem.rdchem.Mol at 0x1a44d04ef30>"
      ]
     },
     "execution_count": 5,
     "metadata": {},
     "output_type": "execute_result"
    }
   ],
   "source": [
    "df['mol'][0]"
   ]
  },
  {
   "cell_type": "code",
   "execution_count": 10,
   "metadata": {},
   "outputs": [
    {
     "name": "stdout",
     "output_type": "stream",
     "text": [
      "1個目の分子からRECAPにより再帰的に見つかるフラグメントの数 10\n"
     ]
    }
   ],
   "source": [
    "def recursive_retreive(list_fragments, leaf):\n",
    "    if leaf.children:\n",
    "        for leaf in leaf.children.values():\n",
    "            list_fragments += leaf.smiles\n",
    "            recursive_retreive(list_fragments, leaf)\n",
    "decomp = Recap.RecapDecompose(df['mol'][0])\n",
    "lst_frg = []\n",
    "recursive_retreive(lst_frg, decomp)\n",
    "print('1個目の分子からRECAPにより再帰的に見つかるフラグメントの数', len(set(lst_frg)))"
   ]
  },
  {
   "cell_type": "markdown",
   "metadata": {},
   "source": [
    "## BRICSを使ったフラグメントライブラリ作成"
   ]
  },
  {
   "cell_type": "code",
   "execution_count": 18,
   "metadata": {},
   "outputs": [],
   "source": [
    "fragments = [list(BRICS.BRICSDecompose(mol)) for mol in df['mol']]"
   ]
  },
  {
   "cell_type": "code",
   "execution_count": 22,
   "metadata": {},
   "outputs": [
    {
     "name": "stdout",
     "output_type": "stream",
     "text": [
      "BRICSが取り出した全フラグメント 1028\n"
     ]
    }
   ],
   "source": [
    "def unwrap(list_data):\n",
    "    list_output = []\n",
    "    for li in list_data: \n",
    "        list_output += li\n",
    "    return list_output \n",
    "fr_all = unwrap(fragments)\n",
    "print('BRICSが取り出した全フラグメント', len(set(fr_all)))"
   ]
  },
  {
   "cell_type": "code",
   "execution_count": 58,
   "metadata": {},
   "outputs": [
    {
     "name": "stdout",
     "output_type": "stream",
     "text": [
      "2\n"
     ]
    }
   ],
   "source": [
    "import random \n",
    "random.seed(42)\n",
    "list_fragments = [MolFromSmiles(smi)for smi in fr_all]\n",
    "random.shuffle(list_fragments,\n",
    "               random=random.random)\n",
    "seed_structures = list_fragments[:2]\n",
    "print(len(seed_structures))"
   ]
  },
  {
   "cell_type": "code",
   "execution_count": 60,
   "metadata": {},
   "outputs": [
    {
     "name": "stderr",
     "output_type": "stream",
     "text": [
      "\n",
      "\n",
      "  0%|          | 0/2 [00:00<?, ?it/s]\u001b[A\u001b[A\n",
      "\n",
      " 50%|█████     | 1/2 [00:04<00:04,  4.62s/it]\u001b[A\u001b[A"
     ]
    },
    {
     "name": "stdout",
     "output_type": "stream",
     "text": [
      "作られた構造の数 472\n"
     ]
    },
    {
     "name": "stderr",
     "output_type": "stream",
     "text": [
      "\n",
      "\n",
      "100%|██████████| 2/2 [02:29<00:00, 74.81s/it]\u001b[A\u001b[A"
     ]
    },
    {
     "name": "stdout",
     "output_type": "stream",
     "text": [
      "作られた構造の数 9515\n"
     ]
    },
    {
     "name": "stderr",
     "output_type": "stream",
     "text": [
      "\n"
     ]
    }
   ],
   "source": [
    "from tqdm import tqdm\n",
    "for depth in tqdm(range(1, 3)):\n",
    "    res = BRICS.BRICSBuild([MolFromSmiles(smi)for smi in fr_all[:100]],\n",
    "                           maxDepth=depth,\n",
    "                           seeds = seed_structures) \n",
    "    print('作られた構造の数', len(list(res)))"
   ]
  },
  {
   "cell_type": "code",
   "execution_count": 61,
   "metadata": {},
   "outputs": [
    {
     "name": "stdout",
     "output_type": "stream",
     "text": [
      "反応テンプレートの数 46\n"
     ]
    }
   ],
   "source": [
    "print('反応テンプレートの数', len(BRICS.reverseReactions))"
   ]
  },
  {
   "cell_type": "markdown",
   "metadata": {},
   "source": [
    "## 実行結果について\n",
    "\n",
    "### BRICSBuildの入力\n",
    "\n",
    "|引数||\n",
    "|:---|:---|\n",
    "|fragments(第一引数)|ダミー原子を1箇所以上含むフラグメント。Molオブジェクトを持つ配列(list)として入力する。|\n",
    "|seeds|フラグメントのうち、必ず含んでいて欲しい構造。|\n",
    "|maxDepth|何回結合させるか|\n",
    "\n"
   ]
  }
 ],
 "metadata": {
  "kernelspec": {
   "display_name": "Python 3",
   "language": "python",
   "name": "python3"
  },
  "language_info": {
   "codemirror_mode": {
    "name": "ipython",
    "version": 3
   },
   "file_extension": ".py",
   "mimetype": "text/x-python",
   "name": "python",
   "nbconvert_exporter": "python",
   "pygments_lexer": "ipython3",
   "version": "3.7.0"
  }
 },
 "nbformat": 4,
 "nbformat_minor": 4
}
