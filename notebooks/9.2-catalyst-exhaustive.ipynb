{
 "cells": [
  {
   "cell_type": "markdown",
   "metadata": {},
   "source": [
    "# 触媒データ\n",
    "\n",
    "Pymatgenを使った記述子算出と<br>\n",
    "網羅的なモデル学習を行う\n",
    "\n",
    "記述子として元々のデータに含まれていたセット`ORIGINAL`と<br> \n",
    "それらに元素ごとの物性値を存在比で重み付けしたセット`VARIABLE`を使う。<br>\n",
    "予測モデルにはPLSとランダムフォレストを使用し、<br>\n",
    "3変数をまとめて予測する多変量予測モデルを作る。"
   ]
  },
  {
   "cell_type": "markdown",
   "metadata": {},
   "source": [
    "### Pymatgenを使った記述子計算"
   ]
  },
  {
   "cell_type": "code",
   "execution_count": 1,
   "metadata": {},
   "outputs": [],
   "source": [
    "from pandas import read_csv\n",
    "from pymatgen.core.periodic_table import Element, Specie\n",
    "from pandas import DataFrame"
   ]
  },
  {
   "cell_type": "code",
   "execution_count": 3,
   "metadata": {},
   "outputs": [
    {
     "data": {
      "text/html": [
       "<div>\n",
       "<style scoped>\n",
       "    .dataframe tbody tr th:only-of-type {\n",
       "        vertical-align: middle;\n",
       "    }\n",
       "\n",
       "    .dataframe tbody tr th {\n",
       "        vertical-align: top;\n",
       "    }\n",
       "\n",
       "    .dataframe thead th {\n",
       "        text-align: right;\n",
       "    }\n",
       "</style>\n",
       "<table border=\"1\" class=\"dataframe\">\n",
       "  <thead>\n",
       "    <tr style=\"text-align: right;\">\n",
       "      <th></th>\n",
       "      <th>Ag</th>\n",
       "      <th>K</th>\n",
       "      <th>Mo</th>\n",
       "      <th>W</th>\n",
       "      <th>Re</th>\n",
       "      <th>Au</th>\n",
       "      <th>Cl</th>\n",
       "      <th>Mg</th>\n",
       "      <th>Fe</th>\n",
       "      <th>Temp</th>\n",
       "      <th>...</th>\n",
       "      <th>O2</th>\n",
       "      <th>NOx</th>\n",
       "      <th>EtCl</th>\n",
       "      <th>CO2</th>\n",
       "      <th>pNOx</th>\n",
       "      <th>pEtCl</th>\n",
       "      <th>pCO2</th>\n",
       "      <th>Conv</th>\n",
       "      <th>Sel</th>\n",
       "      <th>Yield</th>\n",
       "    </tr>\n",
       "    <tr>\n",
       "      <th>label</th>\n",
       "      <th></th>\n",
       "      <th></th>\n",
       "      <th></th>\n",
       "      <th></th>\n",
       "      <th></th>\n",
       "      <th></th>\n",
       "      <th></th>\n",
       "      <th></th>\n",
       "      <th></th>\n",
       "      <th></th>\n",
       "      <th></th>\n",
       "      <th></th>\n",
       "      <th></th>\n",
       "      <th></th>\n",
       "      <th></th>\n",
       "      <th></th>\n",
       "      <th></th>\n",
       "      <th></th>\n",
       "      <th></th>\n",
       "      <th></th>\n",
       "      <th></th>\n",
       "    </tr>\n",
       "  </thead>\n",
       "  <tbody>\n",
       "    <tr>\n",
       "      <th>1</th>\n",
       "      <td>40</td>\n",
       "      <td>2.0</td>\n",
       "      <td>0.0</td>\n",
       "      <td>4.7</td>\n",
       "      <td>0.0</td>\n",
       "      <td>0.0</td>\n",
       "      <td>0.0</td>\n",
       "      <td>0.0</td>\n",
       "      <td>0.0</td>\n",
       "      <td>258</td>\n",
       "      <td>...</td>\n",
       "      <td>5.0</td>\n",
       "      <td>0.02</td>\n",
       "      <td>0.005</td>\n",
       "      <td>10.0</td>\n",
       "      <td>0</td>\n",
       "      <td>0</td>\n",
       "      <td>0</td>\n",
       "      <td>12.0</td>\n",
       "      <td>48.0</td>\n",
       "      <td>5.8</td>\n",
       "    </tr>\n",
       "    <tr>\n",
       "      <th>2</th>\n",
       "      <td>40</td>\n",
       "      <td>2.0</td>\n",
       "      <td>0.0</td>\n",
       "      <td>4.7</td>\n",
       "      <td>0.0</td>\n",
       "      <td>0.0</td>\n",
       "      <td>0.0</td>\n",
       "      <td>0.0</td>\n",
       "      <td>0.0</td>\n",
       "      <td>258</td>\n",
       "      <td>...</td>\n",
       "      <td>5.0</td>\n",
       "      <td>0.02</td>\n",
       "      <td>0.005</td>\n",
       "      <td>5.0</td>\n",
       "      <td>0</td>\n",
       "      <td>0</td>\n",
       "      <td>0</td>\n",
       "      <td>13.0</td>\n",
       "      <td>44.0</td>\n",
       "      <td>5.7</td>\n",
       "    </tr>\n",
       "    <tr>\n",
       "      <th>3</th>\n",
       "      <td>50</td>\n",
       "      <td>2.0</td>\n",
       "      <td>0.5</td>\n",
       "      <td>0.0</td>\n",
       "      <td>0.0</td>\n",
       "      <td>0.0</td>\n",
       "      <td>0.0</td>\n",
       "      <td>0.0</td>\n",
       "      <td>0.0</td>\n",
       "      <td>260</td>\n",
       "      <td>...</td>\n",
       "      <td>5.0</td>\n",
       "      <td>0.02</td>\n",
       "      <td>0.005</td>\n",
       "      <td>0.0</td>\n",
       "      <td>0</td>\n",
       "      <td>0</td>\n",
       "      <td>1</td>\n",
       "      <td>13.0</td>\n",
       "      <td>44.0</td>\n",
       "      <td>5.7</td>\n",
       "    </tr>\n",
       "  </tbody>\n",
       "</table>\n",
       "<p>3 rows × 23 columns</p>\n",
       "</div>"
      ],
      "text/plain": [
       "       Ag    K   Mo    W   Re   Au   Cl   Mg   Fe  Temp  ...   O2   NOx  \\\n",
       "label                                                    ...              \n",
       "1      40  2.0  0.0  4.7  0.0  0.0  0.0  0.0  0.0   258  ...  5.0  0.02   \n",
       "2      40  2.0  0.0  4.7  0.0  0.0  0.0  0.0  0.0   258  ...  5.0  0.02   \n",
       "3      50  2.0  0.5  0.0  0.0  0.0  0.0  0.0  0.0   260  ...  5.0  0.02   \n",
       "\n",
       "        EtCl   CO2  pNOx  pEtCl  pCO2  Conv   Sel  Yield  \n",
       "label                                                     \n",
       "1      0.005  10.0     0      0     0  12.0  48.0    5.8  \n",
       "2      0.005   5.0     0      0     0  13.0  44.0    5.7  \n",
       "3      0.005   0.0     0      0     1  13.0  44.0    5.7  \n",
       "\n",
       "[3 rows x 23 columns]"
      ]
     },
     "execution_count": 3,
     "metadata": {},
     "output_type": "execute_result"
    }
   ],
   "source": [
    "df = read_csv('../data/catalyst/journal_data.csv',index_col=0)\n",
    "df.head(3)"
   ]
  },
  {
   "cell_type": "code",
   "execution_count": 4,
   "metadata": {},
   "outputs": [
    {
     "name": "stdout",
     "output_type": "stream",
     "text": [
      "103\n"
     ]
    }
   ],
   "source": [
    "list_methods=[\"mendeleev_no\", \"electrical_resistivity\",\n",
    "                    \"velocity_of_sound\", \"reflectivity\",\n",
    "                    \"refractive_index\", \"poissons_ratio\", \"molar_volume\",\n",
    "                    \"electronic_structure\", \"thermal_conductivity\",\n",
    "                    \"boiling_point\", \"melting_point\",\n",
    "                    \"critical_temperature\", \"superconduction_temperature\",\n",
    "                    \"liquid_range\", \"bulk_modulus\", \"youngs_modulus\",\n",
    "                    \"brinell_hardness\", \"rigidity_modulus\",\n",
    "                    \"mineral_hardness\", \"vickers_hardness\",\n",
    "                    \"density_of_solid\", \"atomic_radius_calculated\",\n",
    "                    \"van_der_waals_radius\", \"atomic_orbitals\",\n",
    "                    \"coefficient_of_linear_thermal_expansion\",\n",
    "                    \"ground_state_term_symbol\", \"valence\"]\n",
    "elem_names = [e for e in dir(Element) if not e.startswith('_')]\n",
    "print(len(elem_names))"
   ]
  },
  {
   "cell_type": "code",
   "execution_count": 5,
   "metadata": {},
   "outputs": [
    {
     "name": "stdout",
     "output_type": "stream",
     "text": [
      "103 (103, 18)\n"
     ]
    },
    {
     "data": {
      "text/html": [
       "<div>\n",
       "<style scoped>\n",
       "    .dataframe tbody tr th:only-of-type {\n",
       "        vertical-align: middle;\n",
       "    }\n",
       "\n",
       "    .dataframe tbody tr th {\n",
       "        vertical-align: top;\n",
       "    }\n",
       "\n",
       "    .dataframe thead th {\n",
       "        text-align: right;\n",
       "    }\n",
       "</style>\n",
       "<table border=\"1\" class=\"dataframe\">\n",
       "  <thead>\n",
       "    <tr style=\"text-align: right;\">\n",
       "      <th></th>\n",
       "      <th>1s</th>\n",
       "      <th>2p</th>\n",
       "      <th>2s</th>\n",
       "      <th>3d</th>\n",
       "      <th>3p</th>\n",
       "      <th>3s</th>\n",
       "      <th>4d</th>\n",
       "      <th>4f</th>\n",
       "      <th>4p</th>\n",
       "      <th>4s</th>\n",
       "      <th>5d</th>\n",
       "      <th>5p</th>\n",
       "      <th>5s</th>\n",
       "      <th>6d</th>\n",
       "      <th>6p</th>\n",
       "      <th>6s</th>\n",
       "      <th>7s</th>\n",
       "      <th>5f</th>\n",
       "    </tr>\n",
       "  </thead>\n",
       "  <tbody>\n",
       "    <tr>\n",
       "      <th>Ac</th>\n",
       "      <td>-3443.110367</td>\n",
       "      <td>-572.762700</td>\n",
       "      <td>-592.622878</td>\n",
       "      <td>-119.541743</td>\n",
       "      <td>-137.654394</td>\n",
       "      <td>-147.320716</td>\n",
       "      <td>-23.570610</td>\n",
       "      <td>-12.278225</td>\n",
       "      <td>-31.761846</td>\n",
       "      <td>-36.15826</td>\n",
       "      <td>-3.222752</td>\n",
       "      <td>-6.06511</td>\n",
       "      <td>-7.713078</td>\n",
       "      <td>-0.137786</td>\n",
       "      <td>-0.744524</td>\n",
       "      <td>-1.19698</td>\n",
       "      <td>-0.126551</td>\n",
       "      <td>0.0</td>\n",
       "    </tr>\n",
       "    <tr>\n",
       "      <th>Ag</th>\n",
       "      <td>-900.324578</td>\n",
       "      <td>-120.913351</td>\n",
       "      <td>-129.859807</td>\n",
       "      <td>-13.367803</td>\n",
       "      <td>-20.067630</td>\n",
       "      <td>-23.678437</td>\n",
       "      <td>-0.298706</td>\n",
       "      <td>0.000000</td>\n",
       "      <td>-2.086602</td>\n",
       "      <td>-3.22309</td>\n",
       "      <td>0.000000</td>\n",
       "      <td>0.00000</td>\n",
       "      <td>-0.157407</td>\n",
       "      <td>0.000000</td>\n",
       "      <td>0.000000</td>\n",
       "      <td>0.00000</td>\n",
       "      <td>0.000000</td>\n",
       "      <td>0.0</td>\n",
       "    </tr>\n",
       "    <tr>\n",
       "      <th>Al</th>\n",
       "      <td>-55.156044</td>\n",
       "      <td>-2.564018</td>\n",
       "      <td>-3.934827</td>\n",
       "      <td>0.000000</td>\n",
       "      <td>-0.102545</td>\n",
       "      <td>-0.286883</td>\n",
       "      <td>0.000000</td>\n",
       "      <td>0.000000</td>\n",
       "      <td>0.000000</td>\n",
       "      <td>0.00000</td>\n",
       "      <td>0.000000</td>\n",
       "      <td>0.00000</td>\n",
       "      <td>0.000000</td>\n",
       "      <td>0.000000</td>\n",
       "      <td>0.000000</td>\n",
       "      <td>0.00000</td>\n",
       "      <td>0.000000</td>\n",
       "      <td>0.0</td>\n",
       "    </tr>\n",
       "    <tr>\n",
       "      <th>Am</th>\n",
       "      <td>0.000000</td>\n",
       "      <td>0.000000</td>\n",
       "      <td>0.000000</td>\n",
       "      <td>0.000000</td>\n",
       "      <td>0.000000</td>\n",
       "      <td>0.000000</td>\n",
       "      <td>0.000000</td>\n",
       "      <td>0.000000</td>\n",
       "      <td>0.000000</td>\n",
       "      <td>0.00000</td>\n",
       "      <td>0.000000</td>\n",
       "      <td>0.00000</td>\n",
       "      <td>0.000000</td>\n",
       "      <td>0.000000</td>\n",
       "      <td>0.000000</td>\n",
       "      <td>0.00000</td>\n",
       "      <td>0.000000</td>\n",
       "      <td>0.0</td>\n",
       "    </tr>\n",
       "    <tr>\n",
       "      <th>Ar</th>\n",
       "      <td>-113.800134</td>\n",
       "      <td>-8.443439</td>\n",
       "      <td>-10.794172</td>\n",
       "      <td>0.000000</td>\n",
       "      <td>-0.382330</td>\n",
       "      <td>-0.883384</td>\n",
       "      <td>0.000000</td>\n",
       "      <td>0.000000</td>\n",
       "      <td>0.000000</td>\n",
       "      <td>0.00000</td>\n",
       "      <td>0.000000</td>\n",
       "      <td>0.00000</td>\n",
       "      <td>0.000000</td>\n",
       "      <td>0.000000</td>\n",
       "      <td>0.000000</td>\n",
       "      <td>0.00000</td>\n",
       "      <td>0.000000</td>\n",
       "      <td>0.0</td>\n",
       "    </tr>\n",
       "  </tbody>\n",
       "</table>\n",
       "</div>"
      ],
      "text/plain": [
       "             1s          2p          2s          3d          3p          3s  \\\n",
       "Ac -3443.110367 -572.762700 -592.622878 -119.541743 -137.654394 -147.320716   \n",
       "Ag  -900.324578 -120.913351 -129.859807  -13.367803  -20.067630  -23.678437   \n",
       "Al   -55.156044   -2.564018   -3.934827    0.000000   -0.102545   -0.286883   \n",
       "Am     0.000000    0.000000    0.000000    0.000000    0.000000    0.000000   \n",
       "Ar  -113.800134   -8.443439  -10.794172    0.000000   -0.382330   -0.883384   \n",
       "\n",
       "           4d         4f         4p        4s        5d       5p        5s  \\\n",
       "Ac -23.570610 -12.278225 -31.761846 -36.15826 -3.222752 -6.06511 -7.713078   \n",
       "Ag  -0.298706   0.000000  -2.086602  -3.22309  0.000000  0.00000 -0.157407   \n",
       "Al   0.000000   0.000000   0.000000   0.00000  0.000000  0.00000  0.000000   \n",
       "Am   0.000000   0.000000   0.000000   0.00000  0.000000  0.00000  0.000000   \n",
       "Ar   0.000000   0.000000   0.000000   0.00000  0.000000  0.00000  0.000000   \n",
       "\n",
       "          6d        6p       6s        7s   5f  \n",
       "Ac -0.137786 -0.744524 -1.19698 -0.126551  0.0  \n",
       "Ag  0.000000  0.000000  0.00000  0.000000  0.0  \n",
       "Al  0.000000  0.000000  0.00000  0.000000  0.0  \n",
       "Am  0.000000  0.000000  0.00000  0.000000  0.0  \n",
       "Ar  0.000000  0.000000  0.00000  0.000000  0.0  "
      ]
     },
     "execution_count": 5,
     "metadata": {},
     "output_type": "execute_result"
    }
   ],
   "source": [
    "dictionary = []\n",
    "elements = []\n",
    "for name in elem_names:\n",
    "    elem = Element(name)\n",
    "    if elem is not None:\n",
    "        dictionary.append(elem.atomic_orbitals)\n",
    "        elements.append(name)\n",
    "    else:\n",
    "        pass\n",
    "df_orbits = DataFrame([c if c is not None else {} for c in dictionary],index=elem_names).fillna(0.)\n",
    "print(len(dictionary), df_orbits.shape)\n",
    "df_orbits.head(5)"
   ]
  },
  {
   "cell_type": "code",
   "execution_count": 6,
   "metadata": {},
   "outputs": [
    {
     "name": "stdout",
     "output_type": "stream",
     "text": [
      "7\n",
      "6\n"
     ]
    }
   ],
   "source": [
    "tuple_vars = {'boiling_point', 'melting_point', 'density_of_solid', 'liquid_range', 'mendeleev_no', 'molar_volume', 'thermal_conductivity'} \n",
    "print(len(list(tuple_vars)))\n",
    "tuple_vars = {'boiling_point', 'melting_point',                     'liquid_range', 'mendeleev_no', 'molar_volume', 'thermal_conductivity'}\n",
    "print(len(list(tuple_vars)))"
   ]
  },
  {
   "cell_type": "code",
   "execution_count": 7,
   "metadata": {},
   "outputs": [],
   "source": [
    "# tuple_vars, elements\n",
    "w = lambda x,y: list(map(x, y))\n",
    "X = w(lambda elem: w(lambda method: getattr(Element(elem), method), list(tuple_vars)), elements)"
   ]
  },
  {
   "cell_type": "code",
   "execution_count": 8,
   "metadata": {},
   "outputs": [],
   "source": [
    "elements_indesc = [c_ for c_ in df.columns if c_ in elements]"
   ]
  },
  {
   "cell_type": "code",
   "execution_count": 9,
   "metadata": {},
   "outputs": [
    {
     "data": {
      "text/html": [
       "<div>\n",
       "<style scoped>\n",
       "    .dataframe tbody tr th:only-of-type {\n",
       "        vertical-align: middle;\n",
       "    }\n",
       "\n",
       "    .dataframe tbody tr th {\n",
       "        vertical-align: top;\n",
       "    }\n",
       "\n",
       "    .dataframe thead th {\n",
       "        text-align: right;\n",
       "    }\n",
       "</style>\n",
       "<table border=\"1\" class=\"dataframe\">\n",
       "  <thead>\n",
       "    <tr style=\"text-align: right;\">\n",
       "      <th></th>\n",
       "      <th>liquid_range</th>\n",
       "      <th>mendeleev_no</th>\n",
       "      <th>boiling_point</th>\n",
       "      <th>thermal_conductivity</th>\n",
       "      <th>molar_volume</th>\n",
       "      <th>melting_point</th>\n",
       "    </tr>\n",
       "  </thead>\n",
       "  <tbody>\n",
       "    <tr>\n",
       "      <th>Ag</th>\n",
       "      <td>1200.07</td>\n",
       "      <td>71.0</td>\n",
       "      <td>2435.00</td>\n",
       "      <td>430.0000</td>\n",
       "      <td>10.27</td>\n",
       "      <td>1234.93</td>\n",
       "    </tr>\n",
       "    <tr>\n",
       "      <th>K</th>\n",
       "      <td>695.47</td>\n",
       "      <td>10.0</td>\n",
       "      <td>1032.00</td>\n",
       "      <td>100.0000</td>\n",
       "      <td>45.94</td>\n",
       "      <td>336.53</td>\n",
       "    </tr>\n",
       "    <tr>\n",
       "      <th>Mo</th>\n",
       "      <td>2016.00</td>\n",
       "      <td>56.0</td>\n",
       "      <td>4912.00</td>\n",
       "      <td>139.0000</td>\n",
       "      <td>9.38</td>\n",
       "      <td>2896.00</td>\n",
       "    </tr>\n",
       "    <tr>\n",
       "      <th>W</th>\n",
       "      <td>2133.00</td>\n",
       "      <td>55.0</td>\n",
       "      <td>5828.00</td>\n",
       "      <td>170.0000</td>\n",
       "      <td>9.47</td>\n",
       "      <td>3695.00</td>\n",
       "    </tr>\n",
       "    <tr>\n",
       "      <th>Re</th>\n",
       "      <td>2410.00</td>\n",
       "      <td>58.0</td>\n",
       "      <td>5869.00</td>\n",
       "      <td>48.0000</td>\n",
       "      <td>8.86</td>\n",
       "      <td>3459.00</td>\n",
       "    </tr>\n",
       "    <tr>\n",
       "      <th>Au</th>\n",
       "      <td>1791.67</td>\n",
       "      <td>70.0</td>\n",
       "      <td>3129.00</td>\n",
       "      <td>320.0000</td>\n",
       "      <td>10.21</td>\n",
       "      <td>1337.33</td>\n",
       "    </tr>\n",
       "    <tr>\n",
       "      <th>Cl</th>\n",
       "      <td>67.51</td>\n",
       "      <td>99.0</td>\n",
       "      <td>239.11</td>\n",
       "      <td>0.0089</td>\n",
       "      <td>17.39</td>\n",
       "      <td>171.60</td>\n",
       "    </tr>\n",
       "    <tr>\n",
       "      <th>Mg</th>\n",
       "      <td>440.00</td>\n",
       "      <td>73.0</td>\n",
       "      <td>1363.00</td>\n",
       "      <td>160.0000</td>\n",
       "      <td>14.00</td>\n",
       "      <td>923.00</td>\n",
       "    </tr>\n",
       "    <tr>\n",
       "      <th>Fe</th>\n",
       "      <td>1323.00</td>\n",
       "      <td>61.0</td>\n",
       "      <td>3134.00</td>\n",
       "      <td>80.0000</td>\n",
       "      <td>7.09</td>\n",
       "      <td>1811.00</td>\n",
       "    </tr>\n",
       "    <tr>\n",
       "      <th>P</th>\n",
       "      <td>232.70</td>\n",
       "      <td>90.0</td>\n",
       "      <td>550.00</td>\n",
       "      <td>0.2360</td>\n",
       "      <td>17.02</td>\n",
       "      <td>317.30</td>\n",
       "    </tr>\n",
       "  </tbody>\n",
       "</table>\n",
       "</div>"
      ],
      "text/plain": [
       "    liquid_range  mendeleev_no  boiling_point  thermal_conductivity  \\\n",
       "Ag       1200.07          71.0        2435.00              430.0000   \n",
       "K         695.47          10.0        1032.00              100.0000   \n",
       "Mo       2016.00          56.0        4912.00              139.0000   \n",
       "W        2133.00          55.0        5828.00              170.0000   \n",
       "Re       2410.00          58.0        5869.00               48.0000   \n",
       "Au       1791.67          70.0        3129.00              320.0000   \n",
       "Cl         67.51          99.0         239.11                0.0089   \n",
       "Mg        440.00          73.0        1363.00              160.0000   \n",
       "Fe       1323.00          61.0        3134.00               80.0000   \n",
       "P         232.70          90.0         550.00                0.2360   \n",
       "\n",
       "    molar_volume  melting_point  \n",
       "Ag         10.27        1234.93  \n",
       "K          45.94         336.53  \n",
       "Mo          9.38        2896.00  \n",
       "W           9.47        3695.00  \n",
       "Re          8.86        3459.00  \n",
       "Au         10.21        1337.33  \n",
       "Cl         17.39         171.60  \n",
       "Mg         14.00         923.00  \n",
       "Fe          7.09        1811.00  \n",
       "P          17.02         317.30  "
      ]
     },
     "execution_count": 9,
     "metadata": {},
     "output_type": "execute_result"
    }
   ],
   "source": [
    "\n",
    "w = lambda x,y: list(map(x, y))\n",
    "X = w(lambda elem: w(lambda method: getattr(Element(elem), method), list(tuple_vars)), elements_indesc)\n",
    "\n",
    "df_X = DataFrame(X,columns=tuple_vars,index=elements_indesc)\n",
    "df_X"
   ]
  },
  {
   "cell_type": "markdown",
   "metadata": {},
   "source": [
    "**元素の物性値を使った記述子の算出**\n",
    "\n",
    "以下の要領で存在比$C$と元素の物性値$X_{\\rm pure}$から <br>\n",
    "記述子を計算する。\n",
    "\n",
    "```python \n",
    "C @ Xpure\n",
    "``` \n",
    "\n",
    "**ORIGINAL記述子セット**<br>\n",
    "元々の触媒の記述子$X_{\\rm mix}$を使う\n",
    "\n",
    "**VARIABLE記述子セット**<br>\n",
    "元々の触媒の記述子$X_{\\rm mix}$に$CX_{\\rm pure}$を追加した<br>\n",
    "$[X_{\\rm mix},~CX_{\\rm pure}]$を利用する<br>\n",
    "（行列を横に結合している）。\n"
   ]
  },
  {
   "cell_type": "code",
   "execution_count": 10,
   "metadata": {},
   "outputs": [
    {
     "name": "stderr",
     "output_type": "stream",
     "text": [
      "c:\\users\\shojiro_shibayama\\miniconda3\\envs\\regz\\lib\\site-packages\\ipykernel_launcher.py:2: FutureWarning: Sorting because non-concatenation axis is not aligned. A future version\n",
      "of pandas will change to not sort by default.\n",
      "\n",
      "To accept the future behavior, pass 'sort=False'.\n",
      "\n",
      "To retain the current behavior and silence the warning, pass 'sort=True'.\n",
      "\n",
      "  \n"
     ]
    }
   ],
   "source": [
    "from pandas import concat, merge\n",
    "X_combi = concat((df_X, df_orbits), axis=1)\n",
    "Xpure = X_combi.loc[X_combi.isna().sum(axis=1)==0,]"
   ]
  },
  {
   "cell_type": "code",
   "execution_count": 11,
   "metadata": {
    "scrolled": true
   },
   "outputs": [],
   "source": [
    "from numpy import sort\n",
    "df_X = df_X.reindex(sort(Xpure.index))"
   ]
  },
  {
   "cell_type": "code",
   "execution_count": 12,
   "metadata": {},
   "outputs": [
    {
     "name": "stdout",
     "output_type": "stream",
     "text": [
      "['Ag' 'Au' 'Cl' 'Fe' 'K' 'Mg' 'Mo' 'P' 'Re' 'W']\n"
     ]
    },
    {
     "data": {
      "text/plain": [
       "Index(['Ag', 'Au', 'Cl', 'Fe', 'K', 'Mg', 'Mo', 'P', 'Re', 'W'], dtype='object')"
      ]
     },
     "execution_count": 12,
     "metadata": {},
     "output_type": "execute_result"
    }
   ],
   "source": [
    "print(sort(Xpure.index))\n",
    "Xpure.index"
   ]
  },
  {
   "cell_type": "code",
   "execution_count": 13,
   "metadata": {},
   "outputs": [],
   "source": [
    "Xpure_desc = concat((df_X, Xpure), axis=1) "
   ]
  },
  {
   "cell_type": "code",
   "execution_count": 14,
   "metadata": {},
   "outputs": [],
   "source": [
    "Xmix = df[Xpure_desc.index]@ Xpure_desc"
   ]
  },
  {
   "cell_type": "code",
   "execution_count": 15,
   "metadata": {},
   "outputs": [],
   "source": [
    "Xcalc = concat((Xmix,df), axis=1)"
   ]
  },
  {
   "cell_type": "code",
   "execution_count": 16,
   "metadata": {},
   "outputs": [],
   "source": [
    "# TARGET = df.columns[-3:].tolist()\n",
    "TARGET = ['Conv', 'Sel', 'Yield']"
   ]
  },
  {
   "cell_type": "code",
   "execution_count": 17,
   "metadata": {},
   "outputs": [],
   "source": [
    "VARIABLE = Xmix.columns.tolist() + df.columns[:-3].tolist()\n",
    "ORIGINAL = df.columns[:-3].tolist()"
   ]
  },
  {
   "cell_type": "code",
   "execution_count": 18,
   "metadata": {},
   "outputs": [],
   "source": [
    "from sklearn.cross_decomposition import PLSRegression \n",
    "from sklearn.model_selection import cross_val_predict, GridSearchCV, RandomizedSearchCV, train_test_split\n",
    "from sklearn.pipeline import make_pipeline\n",
    "from sklearn.preprocessing import StandardScaler\n",
    "from sklearn.svm import SVR \n",
    "from sklearn.ensemble import RandomForestRegressor\n",
    "from sklearn.metrics import r2_score"
   ]
  },
  {
   "cell_type": "code",
   "execution_count": 19,
   "metadata": {},
   "outputs": [],
   "source": [
    "from warnings import filterwarnings\n",
    "filterwarnings('ignore')\n",
    "from numpy import arange, linspace"
   ]
  },
  {
   "cell_type": "code",
   "execution_count": 20,
   "metadata": {},
   "outputs": [],
   "source": [
    "# https://towardsdatascience.com/hyperparameter-tuning-the-random-forest-in-python-using-scikit-learn-28d2aa77dd74\n",
    "n_estimators = [int(x) for x in linspace(start = 200, stop = 2000, num = 10)]\n",
    "max_features = ['auto', 'sqrt']\n",
    "max_depth = [int(x) for x in linspace(10, 110, num = 11)]\n",
    "max_depth.append(None)\n",
    "min_samples_split = [2, 5, 10]\n",
    "min_samples_leaf = [1, 2, 4]\n",
    "bootstrap = [True, False]\n",
    "\n",
    "random_grid = {'n_estimators': n_estimators,\n",
    "               'max_features': max_features,\n",
    "               'max_depth': max_depth,\n",
    "               'min_samples_split': min_samples_split,\n",
    "               'min_samples_leaf': min_samples_leaf,\n",
    "               'bootstrap': bootstrap}"
   ]
  },
  {
   "cell_type": "code",
   "execution_count": 21,
   "metadata": {},
   "outputs": [
    {
     "name": "stdout",
     "output_type": "stream",
     "text": [
      "50 25\n"
     ]
    }
   ],
   "source": [
    "train_data, test_data = train_test_split(Xcalc, test_size=.33, random_state=66)\n",
    "print(train_data.shape[0], test_data.shape[0])"
   ]
  },
  {
   "cell_type": "code",
   "execution_count": 26,
   "metadata": {},
   "outputs": [
    {
     "name": "stdout",
     "output_type": "stream",
     "text": [
      "pls variable CV_all: 0.460 \n",
      "train Conv 0.693 Sel 0.745 Yield 0.589 test Conv 0.575 Sel 0.636 Yield 0.234 \n",
      "pls original CV_all: 0.398 \n",
      "train Conv 0.640 Sel 0.689 Yield 0.552 test Conv 0.489 Sel 0.501 Yield 0.255 \n",
      "Fitting 5 folds for each of 100 candidates, totalling 500 fits\n"
     ]
    },
    {
     "name": "stderr",
     "output_type": "stream",
     "text": [
      "[Parallel(n_jobs=-1)]: Using backend LokyBackend with 4 concurrent workers.\n",
      "[Parallel(n_jobs=-1)]: Done  33 tasks      | elapsed:   58.7s\n",
      "[Parallel(n_jobs=-1)]: Done 154 tasks      | elapsed:  3.1min\n",
      "[Parallel(n_jobs=-1)]: Done 357 tasks      | elapsed:  6.2min\n",
      "[Parallel(n_jobs=-1)]: Done 500 out of 500 | elapsed:  7.6min finished\n"
     ]
    },
    {
     "name": "stdout",
     "output_type": "stream",
     "text": [
      "rf variable CV_all: 0.695 \n",
      "train Conv 0.952 Sel 0.964 Yield 0.927 test Conv 0.828 Sel 0.793 Yield 0.700 \n",
      "Fitting 5 folds for each of 100 candidates, totalling 500 fits\n"
     ]
    },
    {
     "name": "stderr",
     "output_type": "stream",
     "text": [
      "[Parallel(n_jobs=-1)]: Using backend LokyBackend with 4 concurrent workers.\n",
      "[Parallel(n_jobs=-1)]: Done  33 tasks      | elapsed:   38.0s\n",
      "[Parallel(n_jobs=-1)]: Done 154 tasks      | elapsed:  2.8min\n",
      "[Parallel(n_jobs=-1)]: Done 357 tasks      | elapsed:  6.2min\n",
      "[Parallel(n_jobs=-1)]: Done 500 out of 500 | elapsed:  9.0min finished\n"
     ]
    },
    {
     "name": "stdout",
     "output_type": "stream",
     "text": [
      "rf original CV_all: 0.702 \n",
      "train Conv 0.951 Sel 0.963 Yield 0.923 test Conv 0.832 Sel 0.794 Yield 0.676 \n"
     ]
    }
   ],
   "source": [
    "n_folds = 5\n",
    "for model_name, base in zip(['pls', 'rf' ], [PLSRegression(), RandomForestRegressor()]):\n",
    "    for desc_name, vars in zip(['variable', 'original'], [VARIABLE, ORIGINAL]):\n",
    "        Xtrain = train_data[vars]\n",
    "        ytrain = train_data[TARGET]\n",
    "        Xtest = test_data[vars]\n",
    "        ytest = test_data[TARGET]\n",
    "        \n",
    "        if model_name == 'pls':\n",
    "            pipe = make_pipeline(StandardScaler(), base)\n",
    "            params={'plsregression__n_components': arange(1,11)}\n",
    "            model = GridSearchCV(pipe, params, cv=n_folds)\n",
    "        elif model_name == 'rf': \n",
    "            pipe=base\n",
    "            model = RandomizedSearchCV(pipe, random_grid, n_iter=100, cv=n_folds, verbose=2, random_state=42, n_jobs = -1)\n",
    "        model.fit(Xtrain, ytrain)\n",
    "        print(model_name, desc_name,'CV_all: %.3f '%model.best_score_)\n",
    "        for g_name, Xs, yo in zip(['train','test'], [Xtrain, Xtest], [ytrain, ytest]):\n",
    "            yp = model.predict(Xs)\n",
    "            print(g_name, end=' ')\n",
    "            for i_comp in range(len(TARGET)):\n",
    "                print(TARGET[i_comp]+' %.3f'%r2_score(yo.iloc[:,i_comp], yp[:,i_comp]), \n",
    "                      end=' ')\n",
    "        print()"
   ]
  },
  {
   "cell_type": "code",
   "execution_count": 31,
   "metadata": {},
   "outputs": [],
   "source": [
    "import matplotlib as mpl\n",
    "import matplotlib.pyplot as plt"
   ]
  },
  {
   "cell_type": "code",
   "execution_count": 48,
   "metadata": {},
   "outputs": [],
   "source": [
    "mpl.rcParams['font.size'] = 20 \n",
    "mpl.rcParams['font.family'] = 'MS Gothic'\n",
    "mpl.rcParams['figure.figsize'] = [10, 8]"
   ]
  },
  {
   "cell_type": "code",
   "execution_count": 52,
   "metadata": {},
   "outputs": [
    {
     "data": {
      "image/png": "[encoded data removed]",
      "text/plain": [
       "<Figure size 720x576 with 1 Axes>"
      ]
     },
     "metadata": {
      "needs_background": "light"
     },
     "output_type": "display_data"
    }
   ],
   "source": [
    "\n",
    "fig, ax= plt.subplots()\n",
    "ax.plot(model.best_estimator_.feature_importances_, '-o')\n",
    "plt.xticks(range(len(ORIGINAL)))\n",
    "ax.set_xticklabels(ORIGINAL, rotation=45)\n",
    "plt.xlabel('記述子')\n",
    "plt.ylabel('寄与率')\n",
    "plt.show()"
   ]
  },
  {
   "cell_type": "markdown",
   "metadata": {},
   "source": [
    "## 考察の例\n",
    "\n",
    "- `ORIGINAL`と`VARIABLE`の記述子セットを利用しても精度に差は見られなかった\n",
    "- PLSとランダムフォレストではランダムフォレストの方が予測精度が高かった\n",
    "  - すなわち、目的変数と説明変数の間には非線形性が成り立つ\n",
    "- [元となる論文](https://www.jstage.jst.go.jp/article/jcac/7/0/7_0_69/_article/-char/ja/)\n",
    "   ではPLSと変数選択を組み合わせたGAPLSを用いた解析を行っていたが、精度は低かった\n",
    "- ランダムフォレストにおいて記述子寄与率を確認すると$CO_2$濃度が重要な変数であることが分かった"
   ]
  }
 ],
 "metadata": {
  "kernelspec": {
   "display_name": "Python 3",
   "language": "python",
   "name": "python3"
  },
  "language_info": {
   "codemirror_mode": {
    "name": "ipython",
    "version": 3
   },
   "file_extension": ".py",
   "mimetype": "text/x-python",
   "name": "python",
   "nbconvert_exporter": "python",
   "pygments_lexer": "ipython3",
   "version": "3.7.0"
  }
 },
 "nbformat": 4,
 "nbformat_minor": 2
}
